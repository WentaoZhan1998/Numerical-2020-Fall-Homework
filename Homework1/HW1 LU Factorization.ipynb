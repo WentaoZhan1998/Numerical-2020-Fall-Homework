{
 "metadata": {
  "language_info": {
   "codemirror_mode": {
    "name": "ipython",
    "version": 3
   },
   "file_extension": ".py",
   "mimetype": "text/x-python",
   "name": "python",
   "nbconvert_exporter": "python",
   "pygments_lexer": "ipython3",
   "version": "3.7.4-final"
  },
  "orig_nbformat": 2,
  "kernelspec": {
   "name": "Python 3.7.4 64-bit",
   "display_name": "Python 3.7.4 64-bit",
   "metadata": {
    "interpreter": {
     "hash": "dc7f6c388d05197659bbe87acf29f3da0f4f5e66578f81b1fe53c41aa9d419ae"
    }
   }
  }
 },
 "nbformat": 4,
 "nbformat_minor": 2,
 "cells": [
  {
   "cell_type": "code",
   "execution_count": 44,
   "metadata": {},
   "outputs": [],
   "source": [
    "import torch \n",
    "import numpy as np\n",
    "import math\n",
    "import matplotlib.pyplot as plt\n",
    "import time"
   ]
  },
  {
   "cell_type": "code",
   "execution_count": 45,
   "metadata": {},
   "outputs": [],
   "source": [
    "n=500\n",
    "Whole=5*torch.randn(n+1,n+1)+1\n",
    "M=Whole[1:,1:]\n",
    "# print(M)"
   ]
  },
  {
   "cell_type": "code",
   "execution_count": 46,
   "metadata": {},
   "outputs": [
    {
     "output_type": "stream",
     "name": "stdout",
     "text": [
      "time cost 46.471636056900024 s\n"
     ]
    }
   ],
   "source": [
    "##kji\n",
    "def LU_kji(Amatrix):\n",
    "    time_start=time.time()\n",
    "    A=torch.tensor(Amatrix).numpy()\n",
    "    for k in range(1,n):\n",
    "        # print(A[1:,1:])\n",
    "        for l in range(k+1,n+1):\n",
    "        # print(\"lie(\"+str(l)+\",\"+str(k)+\")\")\n",
    "            A[l,k]=A[l,k]/A[k,k]\n",
    "    # print(A[1:,1:])\n",
    "    # A[k+1:n+1,k]=A[k+1:n+1,k]/A[k,k]\n",
    "\n",
    "        for j in range(k+1,n+1):\n",
    "            for i in range(k+1,n+1):\n",
    "                A[i,j]=A[i,j]-A[i,k]*A[k,j]\n",
    "    # print(A[1:,1:])\n",
    "    L=np.tril(A[1:,1:],-1).T+torch.eye(n,n).numpy()\n",
    "    # print(L)\n",
    "    U=np.triu(A[1:,1:],0)\n",
    "    # print(U)\n",
    "    time_end=time.time()\n",
    "    time_kji=time_end-time_start\n",
    "    print('time cost',time_end-time_start,'s')  \n",
    "    return A,time_kji\n",
    "\n",
    "A_kji,time_kji=LU_kji(Whole)"
   ]
  },
  {
   "cell_type": "code",
   "execution_count": 47,
   "metadata": {},
   "outputs": [
    {
     "output_type": "stream",
     "name": "stdout",
     "text": [
      "time cost 46.03879380226135 s\n"
     ]
    }
   ],
   "source": [
    "##kji\n",
    "def LU_kij(Amatrix):\n",
    "    time_start=time.time()\n",
    "    A=torch.tensor(Amatrix).numpy()\n",
    "    for k in range(1,n):\n",
    "        # print(A[1:,1:])\n",
    "        for l in range(k+1,n+1):\n",
    "        # print(\"lie(\"+str(l)+\",\"+str(k)+\")\")\n",
    "            A[l,k]=A[l,k]/A[k,k]\n",
    "    # print(A[1:,1:])\n",
    "    # A[k+1:n+1,k]=A[k+1:n+1,k]/A[k,k]\n",
    "\n",
    "        for i in range(k+1,n+1):\n",
    "            for j in range(k+1,n+1):\n",
    "                A[i,j]=A[i,j]-A[i,k]*A[k,j]\n",
    "    # print(A[1:,1:])\n",
    "    L=np.tril(A[1:,1:],-1).T+torch.eye(n,n).numpy()\n",
    "    # print(L)\n",
    "    U=np.triu(A[1:,1:],0)\n",
    "    # print(U)\n",
    "    time_end=time.time()\n",
    "    print('time cost',time_end-time_start,'s')\n",
    "    time_kij=time_end-time_start\n",
    "    return A,time_kij\n",
    "\n",
    "A_kij,time_kij=LU_kij(Whole)"
   ]
  },
  {
   "cell_type": "code",
   "execution_count": 48,
   "metadata": {},
   "outputs": [
    {
     "output_type": "stream",
     "name": "stdout",
     "text": [
      "time cost 46.344971656799316 s\n"
     ]
    }
   ],
   "source": [
    "#jki\n",
    "def LU_jki(Amatrix):\n",
    "    time_start=time.time()\n",
    "    A=torch.tensor(Amatrix).numpy()\n",
    "    for j in range(1,n+1):\n",
    "        # print(j)\n",
    "        if (A[j,j]==0) :\n",
    "            print(str(j) +\"diag element = 0\")\n",
    "            break \n",
    "        for k in range(1,j):\n",
    "            for i in range(k+1,n+1):\n",
    "                A[i,j]=A[i,j]-A[i,k]*A[k,j]\n",
    "        \n",
    "        for i in range(j+1,n+1):\n",
    "            \n",
    "            A[i,j]=A[i,j]/A[j,j]\n",
    "        \n",
    "    # print(A[1:,1:])\n",
    "    L=np.tril(A[1:,1:],-1).T+torch.eye(n,n).numpy()\n",
    "    # print(L)\n",
    "    U=np.triu(A[1:,1:],0)\n",
    "    # print(U)\n",
    "    time_end=time.time()\n",
    "    print('time cost',time_end-time_start,'s')\n",
    "    time_jki=time_end-time_start\n",
    "    return A,time_jki\n",
    "    \n",
    "A_jki,time_jki=LU_jki(Whole)"
   ]
  },
  {
   "cell_type": "code",
   "execution_count": 49,
   "metadata": {},
   "outputs": [
    {
     "output_type": "stream",
     "name": "stdout",
     "text": [
      "time cost 45.41346526145935 s\n"
     ]
    }
   ],
   "source": [
    "#ikj\n",
    "def LU_ikj(Amatrix):\n",
    "    time_start=time.time()\n",
    "    A=torch.tensor(Amatrix).numpy()\n",
    "    for i in range(2,n+1):\n",
    "        if (A[i,i]==0) :\n",
    "            print(str(j) +\"diag element = 0\")\n",
    "            break \n",
    "        for k in range(1,i):\n",
    "            A[i,k]=A[i,k]/A[k,k]\n",
    "            for j in range(k+1,n+1):\n",
    "                A[i,j]=A[i,j]-A[i,k]*A[k,j]\n",
    "        \n",
    "    # print(A[1:,1:])\n",
    "    L=np.tril(A[1:,1:],-1).T+torch.eye(n,n).numpy()\n",
    "    # print(L)\n",
    "    U=np.triu(A[1:,1:],0)\n",
    "    # print(U)\n",
    "    time_end=time.time()\n",
    "    print('time cost',time_end-time_start,'s')\n",
    "    time_ikj=time_end-time_start\n",
    "    return A,time_ikj\n",
    "\n",
    "A_ikj,time_ikj=LU_ikj(Whole)"
   ]
  },
  {
   "cell_type": "code",
   "execution_count": 50,
   "metadata": {},
   "outputs": [
    {
     "output_type": "stream",
     "name": "stdout",
     "text": [
      "time cost 45.734606981277466 s\n"
     ]
    }
   ],
   "source": [
    "#ijk\n",
    "def LU_ijk(Amatrix):\n",
    "    time_start=time.time()\n",
    "    A=torch.tensor(Amatrix).numpy()\n",
    "    for i in range(2,n+1):\n",
    "        if (A[i,i]==0) :\n",
    "            print(str(j) +\"diag element = 0\")\n",
    "            break \n",
    "        for j in range(2,i+1):\n",
    "            A[i,j-1]=A[i,j-1]/A[j-1,j-1]\n",
    "            for k in range(1,j):\n",
    "                A[i,j]=A[i,j]-A[i,k]*A[k,j]\n",
    "        for j in range(i+1,n+1):\n",
    "            for k in range(1,i):\n",
    "                A[i,j]=A[i,j]-A[i,k]*A[k,j]\n",
    "    # print(A[1:,1:])\n",
    "    L=np.tril(A[1:,1:],-1).T+torch.eye(n,n).numpy()\n",
    "    # print(L)\n",
    "    U=np.triu(A[1:,1:],0)\n",
    "    \n",
    "    time_end=time.time()\n",
    "    print('time cost',time_end-time_start,'s')\n",
    "    time_ijk=time_end-time_start\n",
    "    # print(U)\n",
    "    return A,time_ijk\n",
    "\n",
    "A_ijk,time_ijk=LU_ijk(Whole)"
   ]
  },
  {
   "cell_type": "code",
   "execution_count": 51,
   "metadata": {},
   "outputs": [
    {
     "output_type": "stream",
     "name": "stdout",
     "text": [
      "time cost 42.481313943862915 s\n"
     ]
    }
   ],
   "source": [
    "#jik\n",
    "def LU_jik(Amatrix):\n",
    "    time_start=time.time()\n",
    "    A=torch.tensor(Amatrix).numpy()\n",
    "    for j in range(1,n+1):\n",
    "        if (A[j,j]==0) :\n",
    "            print(str(j) +\"diag element = 0\")\n",
    "            break \n",
    "        for i in range(j,n+1):\n",
    "            for k in range(1,j):\n",
    "                A[i,j]=A[i,j]-A[i,k]*A[k,j]\n",
    "        for i in range(j+1,n+1):\n",
    "            for k in range(1,j):\n",
    "                A[j,i]=A[j,i]-A[j,k]*A[k,i]\n",
    "            A[j,i]=A[j,i]/A[j,j]\n",
    "    # print(A[1:,1:])\n",
    "    L=np.tril(A[1:,1:],-1).T+torch.eye(n,n).numpy()\n",
    "    # print(L)\n",
    "    U=np.triu(A[1:,1:],0)\n",
    "    # print(U)\n",
    "    time_end=time.time()\n",
    "    print('time cost',time_end-time_start,'s')\n",
    "    time_jik=time_end-time_start\n",
    "    return A,time_jik\n",
    "\n",
    "A_jik,time_jik=LU_jik(Whole)"
   ]
  },
  {
   "cell_type": "code",
   "execution_count": 52,
   "metadata": {},
   "outputs": [
    {
     "output_type": "stream",
     "name": "stdout",
     "text": [
      "ijk time cost: 45.734606981277466 s\njik time cost: 42.481313943862915 s\nikj time cost: 45.41346526145935 s\njki time cost: 46.344971656799316 s\nkij time cost: 46.03879380226135 s\nkji time cost: 46.471636056900024 s\n"
     ]
    }
   ],
   "source": [
    "print(\"ijk time cost: \"+str(time_ijk)+\" s\")\n",
    "print(\"jik time cost: \"+str(time_jik)+\" s\")\n",
    "print(\"ikj time cost: \"+str(time_ikj)+\" s\")\n",
    "print(\"jki time cost: \"+str(time_jki)+\" s\")\n",
    "print(\"kij time cost: \"+str(time_kij)+\" s\")\n",
    "print(\"kji time cost: \"+str(time_kji)+\" s\")\n"
   ]
  }
 ]
}